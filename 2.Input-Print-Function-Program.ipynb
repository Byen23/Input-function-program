{
 "cells": [
  {
   "cell_type": "code",
   "execution_count": 1,
   "metadata": {
    "ExecuteTime": {
     "end_time": "2019-01-06T15:31:45.972803Z",
     "start_time": "2019-01-06T15:31:38.477675Z"
    }
   },
   "outputs": [
    {
     "name": "stdout",
     "output_type": "stream",
     "text": [
      "Enter your name: George\n",
      "Hello! George \n",
      "My name is Bob. \n",
      "Nice to meet you.\n"
     ]
    }
   ],
   "source": [
    "#A simple input and print function program\n",
    "'''Ask user name, then prints out a simple greeting with \n",
    "user name.'''\n",
    "\n",
    "name = input(\"Enter your name: \")\n",
    "\n",
    "print(\"Hello!\",name,\"\\nMy name is Bob.\",\n",
    "      \"\\nNice to meet you.\")\n"
   ]
  }
 ],
 "metadata": {
  "kernelspec": {
   "display_name": "Python 3",
   "language": "python",
   "name": "python3"
  },
  "language_info": {
   "codemirror_mode": {
    "name": "ipython",
    "version": 3
   },
   "file_extension": ".py",
   "mimetype": "text/x-python",
   "name": "python",
   "nbconvert_exporter": "python",
   "pygments_lexer": "ipython3",
   "version": "3.6.7"
  }
 },
 "nbformat": 4,
 "nbformat_minor": 2
}
